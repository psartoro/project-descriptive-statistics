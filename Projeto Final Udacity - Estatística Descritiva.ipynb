{
 "cells": [
  {
   "cell_type": "markdown",
   "metadata": {},
   "source": [
    "## Projeto Final\n",
    "\n",
    "Este experimento exige o uso de um baralho comum. Trata-se de um conjunto de 52 cartas, divididas em quatro naipes (espadas (♠), copas (♥), ouros (♦) e paus (♣)), cada um deles com 13 cartas (às, os números 2 a 10, dama, valete e rei). Aqui, você pode usar cartas físicas ou virtuais, como as encontradas no **random.org** [link](http://www.random.org/playing-cards/).<br/>\n",
    "Para esta tarefa específica, dê um valor para cada carta: o ás vale 1, as cartas numeradas valem o número contido em cada uma delas e a dama, valete e rei valem 10 cada uma.\n"
   ]
  },
  {
   "cell_type": "markdown",
   "metadata": {},
   "source": [
    "**Rubrica para avaliar o projeto->** [Google Drive](https://docs.google.com/document/d/1m8FUvjyvWrywk3W1mScM23lMjA3venct9tzize8hX7Q/edit#)"
   ]
  },
  {
   "cell_type": "code",
   "execution_count": 1,
   "metadata": {},
   "outputs": [],
   "source": [
    "# bibliotecas\n",
    "import pandas as pd\n",
    "import numpy as np\n",
    "import matplotlib.pyplot as plt\n",
    "import seaborn as sns\n",
    "import scipy.stats as st\n",
    "\n",
    "plt.style.use(\"seaborn-muted\")\n",
    "sns.set_style('darkgrid')\n",
    "\n",
    "%matplotlib inline"
   ]
  },
  {
   "cell_type": "markdown",
   "metadata": {},
   "source": [
    "#### 1. Antes de mais nada, crie um histograma representando a frequência relativa do valor de cada carta."
   ]
  },
  {
   "cell_type": "markdown",
   "metadata": {},
   "source": [
    "Criei um pequeno dataframe contendo o valor de cada carta, a frequência que a mesma se repete no baralho (frequência absoluta) e a frequência relativa de cada uma.<br/>\n",
    "Abaixo, um histograma representando as frequências relativas de cada carta no baralho. Considerando que damas, valetes e reis valem 10, este valor se torna o mais frequente."
   ]
  },
  {
   "cell_type": "code",
   "execution_count": 61,
   "metadata": {},
   "outputs": [
    {
     "data": {
      "text/html": [
       "<div>\n",
       "<style scoped>\n",
       "    .dataframe tbody tr th:only-of-type {\n",
       "        vertical-align: middle;\n",
       "    }\n",
       "\n",
       "    .dataframe tbody tr th {\n",
       "        vertical-align: top;\n",
       "    }\n",
       "\n",
       "    .dataframe thead th {\n",
       "        text-align: right;\n",
       "    }\n",
       "</style>\n",
       "<table border=\"1\" class=\"dataframe\">\n",
       "  <thead>\n",
       "    <tr style=\"text-align: right;\">\n",
       "      <th></th>\n",
       "      <th>valor</th>\n",
       "      <th>fa</th>\n",
       "      <th>fr</th>\n",
       "    </tr>\n",
       "  </thead>\n",
       "  <tbody>\n",
       "    <tr>\n",
       "      <th>0</th>\n",
       "      <td>1</td>\n",
       "      <td>4</td>\n",
       "      <td>0.076923</td>\n",
       "    </tr>\n",
       "    <tr>\n",
       "      <th>1</th>\n",
       "      <td>2</td>\n",
       "      <td>4</td>\n",
       "      <td>0.076923</td>\n",
       "    </tr>\n",
       "    <tr>\n",
       "      <th>2</th>\n",
       "      <td>3</td>\n",
       "      <td>4</td>\n",
       "      <td>0.076923</td>\n",
       "    </tr>\n",
       "    <tr>\n",
       "      <th>3</th>\n",
       "      <td>4</td>\n",
       "      <td>4</td>\n",
       "      <td>0.076923</td>\n",
       "    </tr>\n",
       "    <tr>\n",
       "      <th>4</th>\n",
       "      <td>5</td>\n",
       "      <td>4</td>\n",
       "      <td>0.076923</td>\n",
       "    </tr>\n",
       "    <tr>\n",
       "      <th>5</th>\n",
       "      <td>6</td>\n",
       "      <td>4</td>\n",
       "      <td>0.076923</td>\n",
       "    </tr>\n",
       "    <tr>\n",
       "      <th>6</th>\n",
       "      <td>7</td>\n",
       "      <td>4</td>\n",
       "      <td>0.076923</td>\n",
       "    </tr>\n",
       "    <tr>\n",
       "      <th>7</th>\n",
       "      <td>8</td>\n",
       "      <td>4</td>\n",
       "      <td>0.076923</td>\n",
       "    </tr>\n",
       "    <tr>\n",
       "      <th>8</th>\n",
       "      <td>9</td>\n",
       "      <td>4</td>\n",
       "      <td>0.076923</td>\n",
       "    </tr>\n",
       "    <tr>\n",
       "      <th>9</th>\n",
       "      <td>10</td>\n",
       "      <td>16</td>\n",
       "      <td>0.307692</td>\n",
       "    </tr>\n",
       "  </tbody>\n",
       "</table>\n",
       "</div>"
      ],
      "text/plain": [
       "   valor  fa        fr\n",
       "0      1   4  0.076923\n",
       "1      2   4  0.076923\n",
       "2      3   4  0.076923\n",
       "3      4   4  0.076923\n",
       "4      5   4  0.076923\n",
       "5      6   4  0.076923\n",
       "6      7   4  0.076923\n",
       "7      8   4  0.076923\n",
       "8      9   4  0.076923\n",
       "9     10  16  0.307692"
      ]
     },
     "execution_count": 61,
     "metadata": {},
     "output_type": "execute_result"
    }
   ],
   "source": [
    "df = pd.read_excel('../cartas.xlsx')\n",
    "df"
   ]
  },
  {
   "cell_type": "code",
   "execution_count": 130,
   "metadata": {},
   "outputs": [
    {
     "data": {
      "image/png": "[encoded data removed]",
      "text/plain": [
       "<Figure size 576x432 with 1 Axes>"
      ]
     },
     "metadata": {
      "needs_background": "light"
     },
     "output_type": "display_data"
    }
   ],
   "source": [
    "f, ax = plt.subplots(figsize=(8, 6))\n",
    "plt.bar(df['valor'], df['fr']*100, width=1.)\n",
    "\n",
    "plt.title('\\nDistribuição da frequência relativa do valor das cartas\\n', fontsize=14)\n",
    "plt.xlabel('\\n', fontsize=14)\n",
    "plt.ylabel('%\\n', fontsize=13)\n",
    "plt.xticks(np.arange(1, 11, step=1), size=12)\n",
    "\n",
    "plt.show()"
   ]
  },
  {
   "cell_type": "markdown",
   "metadata": {},
   "source": [
    "#### 2. Agora, usaremos as amostras para uma nova distribuição. Para obter uma só amostra, embaralhe as cartas e pegue três delas (você usará cartas do baralho e não as substituirá). Anote as cartas que você tirou e a soma do valor das três. Coloque-as de volta no baralho e repita esse procedimento no mínimo trinta vezes."
   ]
  },
  {
   "cell_type": "markdown",
   "metadata": {},
   "source": [
    "Criei um dataframe contendo as amostras aleatórias retiradas do baralho e também a soma de cada amostra. As amostras foram geradas no site **random.org**, assim como orientado."
   ]
  },
  {
   "cell_type": "code",
   "execution_count": 131,
   "metadata": {},
   "outputs": [
    {
     "data": {
      "text/html": [
       "<div>\n",
       "<style scoped>\n",
       "    .dataframe tbody tr th:only-of-type {\n",
       "        vertical-align: middle;\n",
       "    }\n",
       "\n",
       "    .dataframe tbody tr th {\n",
       "        vertical-align: top;\n",
       "    }\n",
       "\n",
       "    .dataframe thead th {\n",
       "        text-align: right;\n",
       "    }\n",
       "</style>\n",
       "<table border=\"1\" class=\"dataframe\">\n",
       "  <thead>\n",
       "    <tr style=\"text-align: right;\">\n",
       "      <th></th>\n",
       "      <th>amostra</th>\n",
       "      <th>carta1</th>\n",
       "      <th>carta2</th>\n",
       "      <th>carta3</th>\n",
       "      <th>soma</th>\n",
       "    </tr>\n",
       "  </thead>\n",
       "  <tbody>\n",
       "    <tr>\n",
       "      <th>0</th>\n",
       "      <td>1</td>\n",
       "      <td>4</td>\n",
       "      <td>10</td>\n",
       "      <td>10</td>\n",
       "      <td>24</td>\n",
       "    </tr>\n",
       "    <tr>\n",
       "      <th>1</th>\n",
       "      <td>2</td>\n",
       "      <td>10</td>\n",
       "      <td>5</td>\n",
       "      <td>3</td>\n",
       "      <td>18</td>\n",
       "    </tr>\n",
       "    <tr>\n",
       "      <th>2</th>\n",
       "      <td>3</td>\n",
       "      <td>10</td>\n",
       "      <td>8</td>\n",
       "      <td>9</td>\n",
       "      <td>27</td>\n",
       "    </tr>\n",
       "    <tr>\n",
       "      <th>3</th>\n",
       "      <td>4</td>\n",
       "      <td>7</td>\n",
       "      <td>3</td>\n",
       "      <td>1</td>\n",
       "      <td>11</td>\n",
       "    </tr>\n",
       "    <tr>\n",
       "      <th>4</th>\n",
       "      <td>5</td>\n",
       "      <td>10</td>\n",
       "      <td>9</td>\n",
       "      <td>6</td>\n",
       "      <td>25</td>\n",
       "    </tr>\n",
       "  </tbody>\n",
       "</table>\n",
       "</div>"
      ],
      "text/plain": [
       "   amostra  carta1  carta2  carta3  soma\n",
       "0        1       4      10      10    24\n",
       "1        2      10       5       3    18\n",
       "2        3      10       8       9    27\n",
       "3        4       7       3       1    11\n",
       "4        5      10       9       6    25"
      ]
     },
     "execution_count": 131,
     "metadata": {},
     "output_type": "execute_result"
    }
   ],
   "source": [
    "df_amostras = pd.read_excel('../baralho.xlsx')\n",
    "df_amostras.head()"
   ]
  },
  {
   "cell_type": "markdown",
   "metadata": {},
   "source": [
    "#### 3. Vamos dar uma olhada na distribuição da soma das cartas. Informe a estatística descritiva das cartas que escolheu. Inclua no mínimo duas medidas de tendência central e duas de variabilidade."
   ]
  },
  {
   "cell_type": "code",
   "execution_count": 336,
   "metadata": {},
   "outputs": [
    {
     "data": {
      "text/html": [
       "<div>\n",
       "<style scoped>\n",
       "    .dataframe tbody tr th:only-of-type {\n",
       "        vertical-align: middle;\n",
       "    }\n",
       "\n",
       "    .dataframe tbody tr th {\n",
       "        vertical-align: top;\n",
       "    }\n",
       "\n",
       "    .dataframe thead th {\n",
       "        text-align: right;\n",
       "    }\n",
       "</style>\n",
       "<table border=\"1\" class=\"dataframe\">\n",
       "  <thead>\n",
       "    <tr style=\"text-align: right;\">\n",
       "      <th></th>\n",
       "      <th>soma</th>\n",
       "    </tr>\n",
       "  </thead>\n",
       "  <tbody>\n",
       "    <tr>\n",
       "      <th>count</th>\n",
       "      <td>30.000000</td>\n",
       "    </tr>\n",
       "    <tr>\n",
       "      <th>mean</th>\n",
       "      <td>20.733333</td>\n",
       "    </tr>\n",
       "    <tr>\n",
       "      <th>std</th>\n",
       "      <td>5.483098</td>\n",
       "    </tr>\n",
       "    <tr>\n",
       "      <th>min</th>\n",
       "      <td>9.000000</td>\n",
       "    </tr>\n",
       "    <tr>\n",
       "      <th>25%</th>\n",
       "      <td>17.250000</td>\n",
       "    </tr>\n",
       "    <tr>\n",
       "      <th>50%</th>\n",
       "      <td>20.500000</td>\n",
       "    </tr>\n",
       "    <tr>\n",
       "      <th>75%</th>\n",
       "      <td>24.750000</td>\n",
       "    </tr>\n",
       "    <tr>\n",
       "      <th>max</th>\n",
       "      <td>30.000000</td>\n",
       "    </tr>\n",
       "  </tbody>\n",
       "</table>\n",
       "</div>"
      ],
      "text/plain": [
       "            soma\n",
       "count  30.000000\n",
       "mean   20.733333\n",
       "std     5.483098\n",
       "min     9.000000\n",
       "25%    17.250000\n",
       "50%    20.500000\n",
       "75%    24.750000\n",
       "max    30.000000"
      ]
     },
     "execution_count": 336,
     "metadata": {},
     "output_type": "execute_result"
    }
   ],
   "source": [
    "pd.DataFrame(df_amostras['soma'].describe())"
   ]
  },
  {
   "cell_type": "markdown",
   "metadata": {},
   "source": [
    "**`3`** - Olhando para as medidas de **soma**, a **mediana: 20.50** está muito próxima da **média: 20.73**, indicando que os valores podem ter uma distribuição normal.<br/>\n"
   ]
  },
  {
   "cell_type": "code",
   "execution_count": 142,
   "metadata": {
    "scrolled": false
   },
   "outputs": [
    {
     "data": {
      "image/png": "[encoded data removed]",
      "text/plain": [
       "<Figure size 576x432 with 1 Axes>"
      ]
     },
     "metadata": {
      "needs_background": "light"
     },
     "output_type": "display_data"
    }
   ],
   "source": [
    "# Gráfico de distribuição representando os valores de Soma\n",
    "f, ax = plt.subplots(figsize=(8, 6))\n",
    "\n",
    "mn = df_amostras['soma'].median()\n",
    "md = df_amostras['soma'].mean()\n",
    "\n",
    "sns.histplot(ax=ax, data=df_amostras, x='soma', label='Soma', kde=True, bins=18)\n",
    "\n",
    "plt.axvline(mn, c='#0000FF', ls='-', label='Mediana')\n",
    "plt.axvline(md, c='#000', ls='--', label='Média')\n",
    "plt.ticklabel_format(style='plain', axis='x')\n",
    "plt.title('\\nDistribuição da variável Soma ($\\mu=20.73$, $Me=20.5$)\\n', fontsize=13)\n",
    "plt.xlabel('Soma', fontsize=13)\n",
    "plt.ylabel('Count', fontsize=13)\n",
    "\n",
    "plt.xticks(size=12)\n",
    "plt.yticks(size=12)\n",
    "plt.legend(fontsize=12)\n",
    "plt.show()"
   ]
  },
  {
   "cell_type": "code",
   "execution_count": 451,
   "metadata": {},
   "outputs": [
    {
     "name": "stdout",
     "output_type": "stream",
     "text": [
      "Desvio padrão: 5.483098377385906\n"
     ]
    }
   ],
   "source": [
    "# Desvio padrão\n",
    "sd = df_amostras['soma'].std()\n",
    "print('Desvio padrão: {}'.format(sd))"
   ]
  },
  {
   "cell_type": "code",
   "execution_count": 447,
   "metadata": {},
   "outputs": [
    {
     "name": "stdout",
     "output_type": "stream",
     "text": [
      "Instervalo interquartil: 10.75\n"
     ]
    }
   ],
   "source": [
    "# Quartis\n",
    "q75, q25 = np.percentile(df_amostras, [75,25])\n",
    "iqr = q75 - q25\n",
    "print('Instervalo interquartil: {}'.format(iqr))"
   ]
  },
  {
   "cell_type": "code",
   "execution_count": 453,
   "metadata": {},
   "outputs": [
    {
     "data": {
      "image/png": "[encoded data removed]",
      "text/plain": [
       "<Figure size 576x432 with 1 Axes>"
      ]
     },
     "metadata": {
      "needs_background": "light"
     },
     "output_type": "display_data"
    }
   ],
   "source": [
    "# Boxplot representando a amplitude dos valores\n",
    "plt.subplots(figsize=(8, 6))\n",
    "\n",
    "sns.boxplot(data=df_amostras, x='soma')\n",
    "plt.xlabel('Soma', fontsize=14)\n",
    "plt.title('Variabilidade da variável Soma ($IQR=10.75$, $\\sigma=5.49$)', fontsize=14)\n",
    "plt.xticks(size=12)\n",
    "plt.yticks(size=12)\n",
    "\n",
    "plt.show()"
   ]
  },
  {
   "cell_type": "markdown",
   "metadata": {},
   "source": [
    "A amplitude interquatil indica dispersão dos valores de **soma** em relação a média e mediana. Cerca de 50% desses valores estão dentro do IQR.<br/>\n",
    "O desvio padrão também mostra que os valores de **soma** estão mais dispersos em relação a média e mediana."
   ]
  },
  {
   "cell_type": "markdown",
   "metadata": {},
   "source": [
    "#### 4. Crie um histograma com a soma das cartas retiradas. Compare sua forma com a da distribuição original. Quais são as diferenças entre eles? Você sabe explicar por que eles são diferentes?"
   ]
  },
  {
   "cell_type": "code",
   "execution_count": 140,
   "metadata": {},
   "outputs": [
    {
     "data": {
      "image/png": "[encoded data removed]",
      "text/plain": [
       "<Figure size 864x432 with 2 Axes>"
      ]
     },
     "metadata": {
      "needs_background": "light"
     },
     "output_type": "display_data"
    }
   ],
   "source": [
    "plt.figure(figsize=(12, 6))\n",
    "\n",
    "plt.subplot(121)\n",
    "plt.bar(df['valor'], df['fr']*100, width=1.)\n",
    "plt.title('\\nDistribuição da frequência relativa do valor das cartas\\n', fontsize=13)\n",
    "plt.xlabel('\\nValor', fontsize=13)\n",
    "plt.ylabel('Frequência relativa\\n', fontsize=13)\n",
    "plt.xticks(size=13)\n",
    "plt.yticks(size=13)\n",
    "\n",
    "plt.subplot(122)\n",
    "sns.histplot(data=df_amostras, x='soma', label='Soma', kde=True, bins=18)\n",
    "plt.title('\\nDistribuição da variável Soma\\n', fontsize=13)\n",
    "plt.xlabel('\\nSoma', fontsize=13)\n",
    "plt.ylabel('Count\\n', fontsize=13)\n",
    "plt.xticks(size=13)\n",
    "plt.yticks(size=13)\n",
    "\n",
    "plt.tight_layout()\n",
    "plt.show()"
   ]
  },
  {
   "cell_type": "markdown",
   "metadata": {},
   "source": [
    "Enquanto a distribuição dos valores das cartas mostra uma quase uniformidade, exceto pelo valor 10 que mais se repete, a distribuição de Soma é mais distribuída e com mais dispersão."
   ]
  },
  {
   "cell_type": "markdown",
   "metadata": {},
   "source": [
    "#### 5. Faça algumas estimativas dos valores que serão usados nas distribuições seguintes. Dentro de qual intervalo você espera que cerca de 90% dos valores obtidos falhem? Qual é a probabilidade aproximada em que você obterá um valor de 20, no mínimo? Não deixe de explicar como você chegou aos valores."
   ]
  },
  {
   "cell_type": "markdown",
   "metadata": {},
   "source": [
    "Baseado numa probalidade de 14,92%, 90% dos valores obtidos falharam no intervalo entre 9 e 15. Também estimo uma probabilidade de 55,17% de obter um valor de 20 ou maior.<br/><br/>\n",
    "**Explicação:**<br/>\n",
    "Cheguei a essas conclusões, utilizando os score-z da distribuição de soma. Para os 14,92% prezumi que, sendo os valores abaixo de 15 os que mais ocorrem com menos frequência, calculei utilizando x = 15, subtraindo da média 2,73 e dividindo pelo desvio padrão 5,49. O mesmo foi feito para chegar a probabilidade de obter um valor mínimo de 20, porém, ao encontrar o score-z na tabela, subtrai 1.\n",
    "\n",
    "$$Z = \\tfrac{x-\\mu}{\\sigma}$$"
   ]
  }
 ],
 "metadata": {
  "kernelspec": {
   "display_name": "Python 3",
   "language": "python",
   "name": "python3"
  },
  "language_info": {
   "codemirror_mode": {
    "name": "ipython",
    "version": 3
   },
   "file_extension": ".py",
   "mimetype": "text/x-python",
   "name": "python",
   "nbconvert_exporter": "python",
   "pygments_lexer": "ipython3",
   "version": "3.8.5"
  }
 },
 "nbformat": 4,
 "nbformat_minor": 4
}
